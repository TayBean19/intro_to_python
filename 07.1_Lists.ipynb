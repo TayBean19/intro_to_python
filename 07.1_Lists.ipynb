{
 "cells": [
  {
   "cell_type": "markdown",
   "metadata": {},
   "source": [
    "**PYTHON LISTS**\n",
    "\n",
    "\n",
    "- A list is a built-in Dynamic sized array (automaticcaly gros and shrinks), all sorts of data can be stored in a list, lists can include:\n",
    "    - Duplicate items, ordered elements based on how they are added, access directly using their position (index), starting from 0.\n"
   ]
  },
  {
   "cell_type": "code",
   "execution_count": 11,
   "metadata": {},
   "outputs": [
    {
     "name": "stdout",
     "output_type": "stream",
     "text": [
      "10\n",
      "[10, 15, 11]\n"
     ]
    }
   ],
   "source": [
    "a = [10,20,15]\n",
    "\n",
    "print(a[0]) # access first item\n",
    "a.append(11) # add item\n",
    "a.remove(20) # Remove item\n",
    "\n",
    "print(a)"
   ]
  },
  {
   "cell_type": "markdown",
   "metadata": {},
   "source": [
    "**Creating a List**\n",
    "\n",
    "- Here are some commpn methods to create a list:"
   ]
  },
  {
   "cell_type": "code",
   "execution_count": 12,
   "metadata": {},
   "outputs": [
    {
     "name": "stdout",
     "output_type": "stream",
     "text": [
      "[1, 2, 4, 5]\n",
      "['apple', 'banana', 'cherry']\n",
      "[1, 'hello', 3.14, True]\n"
     ]
    }
   ],
   "source": [
    "# List of integers\n",
    "a = [1, 2, 4, 5,]\n",
    "\n",
    "# List of strings\n",
    "b = ['apple', 'banana', 'cherry']\n",
    "\n",
    "# Mixed data types\n",
    "c = [1, 'hello', 3.14, True]\n",
    "\n",
    "print(a)\n",
    "print(b)\n",
    "print(c)\n"
   ]
  },
  {
   "cell_type": "markdown",
   "metadata": {},
   "source": [
    "**Using list() Constructor**\n",
    "- We can also create a list by passing a 'iterable' (like a string, tuple, or another list) to list() function"
   ]
  },
  {
   "cell_type": "code",
   "execution_count": 13,
   "metadata": {},
   "outputs": [
    {
     "name": "stdout",
     "output_type": "stream",
     "text": [
      "[1, 2, 3, 'apple', 4.5]\n"
     ]
    }
   ],
   "source": [
    "# From a tuple\n",
    "a = list((1, 2, 3, 'apple', 4.5))\n",
    "\n",
    "print(a)"
   ]
  },
  {
   "cell_type": "markdown",
   "metadata": {},
   "source": [
    "**Creating as List with Repeated Element**\n",
    "- We can create a list with repeated elements using the mulitplcation operator."
   ]
  },
  {
   "cell_type": "code",
   "execution_count": 14,
   "metadata": {},
   "outputs": [
    {
     "name": "stdout",
     "output_type": "stream",
     "text": [
      "[2, 2, 2, 2, 2]\n",
      "[0, 0, 0, 0, 0, 0, 0]\n"
     ]
    }
   ],
   "source": [
    "# Create a list [2, 2, 2, 2, 2]\n",
    "a = [2]*5\n",
    "# Create a list [0, 0, 0, 0, 0, 0, 0]\n",
    "b = [0]*7\n",
    "\n",
    "print(a)\n",
    "print(b)"
   ]
  },
  {
   "cell_type": "markdown",
   "metadata": {},
   "source": [
    "**Accessing List Element**\n",
    "- Elements in a list can be accessed using 'indexing'\n",
    "    - python indexes start at 0, so a[0] will access the first element\n",
    "- 'Negative Indexing' allows us to access elements from the end f the list\n",
    "    - like index -1 represents the last elements of the list"
   ]
  },
  {
   "cell_type": "code",
   "execution_count": 15,
   "metadata": {},
   "outputs": [
    {
     "name": "stdout",
     "output_type": "stream",
     "text": [
      "10\n",
      "50\n"
     ]
    }
   ],
   "source": [
    "a = [10, 20, 30, 40, 50]\n",
    "\n",
    "# Access first element\n",
    "print(a[0])\n",
    "\n",
    "# Access last element\n",
    "print(a[-1])"
   ]
  },
  {
   "cell_type": "markdown",
   "metadata": {},
   "source": [
    "**Adding Elements into List**\n",
    "- We can add elements to a list using the following methods:\n",
    "    - 'append()' adds an element at the end of the list\n",
    "    - 'extend()' adds multiple elements to the end of the list\n",
    "    - 'insert()' adds an element at a specific position "
   ]
  },
  {
   "cell_type": "code",
   "execution_count": 16,
   "metadata": {},
   "outputs": [
    {
     "name": "stdout",
     "output_type": "stream",
     "text": [
      "After append(10) [10]\n",
      "After inster(0,5) [5, 10]\n",
      "After extend([15, 20, 25]) [5, 10, 15, 20, 25]\n"
     ]
    }
   ],
   "source": [
    "# Initialize an empty list\n",
    "a = []\n",
    "\n",
    "# Adding 10 to the end of list\n",
    "a.append(10)\n",
    "print('After append(10)', a)\n",
    "\n",
    "# Inserting 5 at index 0 (aka the beginning)\n",
    "a.insert(0,5)\n",
    "print('After inster(0,5)', a)\n",
    "\n",
    "# Adding multiple elements [15, 20, 25] at the end\n",
    "a.extend([15, 20, 25])\n",
    "print('After extend([15, 20, 25])', a)"
   ]
  },
  {
   "cell_type": "markdown",
   "metadata": {},
   "source": [
    "**Updating Elements into a List**\n",
    "- We can change the value of an element by accessing it using its index"
   ]
  },
  {
   "cell_type": "code",
   "execution_count": 17,
   "metadata": {},
   "outputs": [
    {
     "name": "stdout",
     "output_type": "stream",
     "text": [
      "[10, 25, 30, 40, 50]\n"
     ]
    }
   ],
   "source": [
    "a = [10, 20, 30, 40, 50]\n",
    "\n",
    "# Change the second Element\n",
    "a[1] = 25\n",
    "\n",
    "print(a)"
   ]
  },
  {
   "cell_type": "markdown",
   "metadata": {},
   "source": [
    "**Removing Elements from a List**\n",
    "- We can remove elements from a list using:\n",
    "    - 'remove()' removes the first occurance of an element\n",
    "    - 'pop()' removes the element at a specific index or the last element if no index is specificed \n",
    "    - 'del statement' Deletes an element at a specific index"
   ]
  },
  {
   "cell_type": "code",
   "execution_count": 18,
   "metadata": {},
   "outputs": [
    {
     "name": "stdout",
     "output_type": "stream",
     "text": [
      "After removal(30) [10, 20, 40, 50]\n",
      "Popped Element: 20\n",
      "After pop(1): [10, 40, 50]\n",
      "After del a[0] [40, 50]\n"
     ]
    }
   ],
   "source": [
    "a = [10, 20, 30, 40 , 50]\n",
    "\n",
    "# Removes the first occurence of 30\n",
    "a.remove(30)\n",
    "print('After removal(30)', a)\n",
    "\n",
    "# Removes the element at index 1 (20)\n",
    "popped_val = a.pop(1)\n",
    "print('Popped Element:', popped_val)\n",
    "print('After pop(1):', a)\n",
    "\n",
    "# Deletes the first element (10)\n",
    "del a[0]\n",
    "print('After del a[0]', a)"
   ]
  },
  {
   "cell_type": "markdown",
   "metadata": {},
   "source": [
    "**Iterating Over Lists**\n",
    "- We can iterate the lists easilt by using a 'for loop' or other iteration methods.\n",
    "    - Using 'for loop':"
   ]
  },
  {
   "cell_type": "code",
   "execution_count": 19,
   "metadata": {},
   "outputs": [
    {
     "name": "stdout",
     "output_type": "stream",
     "text": [
      "apple\n",
      "banana\n",
      "cherry\n"
     ]
    }
   ],
   "source": [
    "a = ['apple', 'banana', 'cherry']\n",
    "\n",
    "# Iterating over the list\n",
    "for item in a:\n",
    "    print(item)"
   ]
  },
  {
   "cell_type": "markdown",
   "metadata": {},
   "source": [
    "**Nested Lists in python**\n",
    "- A nested list is a list within another list, which is useful for representing matrices or tables. We can access nested elements by changing indexes."
   ]
  },
  {
   "cell_type": "code",
   "execution_count": 20,
   "metadata": {},
   "outputs": [
    {
     "name": "stdout",
     "output_type": "stream",
     "text": [
      "6\n"
     ]
    }
   ],
   "source": [
    "matrix = [[1, 2, 3],\n",
    "          [4, 5, 6],\n",
    "          [7, 8, 9]]\n",
    "# Access element at row 2, column 3\n",
    "print(matrix[1][2])"
   ]
  }
 ],
 "metadata": {
  "kernelspec": {
   "display_name": ".venv",
   "language": "python",
   "name": "python3"
  },
  "language_info": {
   "codemirror_mode": {
    "name": "ipython",
    "version": 3
   },
   "file_extension": ".py",
   "mimetype": "text/x-python",
   "name": "python",
   "nbconvert_exporter": "python",
   "pygments_lexer": "ipython3",
   "version": "3.13.2"
  }
 },
 "nbformat": 4,
 "nbformat_minor": 2
}
