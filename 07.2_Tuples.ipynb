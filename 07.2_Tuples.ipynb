{
 "cells": [
  {
   "cell_type": "markdown",
   "metadata": {},
   "source": [
    "**PYTHON TUPLES**\n",
    "\n",
    "- A tuple in python is an immutable orderd collection of elements. Tuples are simular to lists, but unlike lists, they cannot be changed after thaier creation.\n",
    "    - Main data types are ordered, heterogeneous, and immutable\n",
    "\n",
    "*Creating a tuple*\n",
    "\n",
    "- A tuple is created by placing all the item sinside parentheses(), seperated by commas. A tuple can have any number of items and they can be different data types. "
   ]
  },
  {
   "cell_type": "code",
   "execution_count": 1,
   "metadata": {},
   "outputs": [
    {
     "name": "stdout",
     "output_type": "stream",
     "text": [
      "()\n",
      "('Geeks', 'for')\n",
      "(1, 2, 3, 4, 5, 6)\n",
      "('G', 'e', 'e', 'k', 's')\n"
     ]
    }
   ],
   "source": [
    "# Creating an empty Tuple\n",
    "tup = ()\n",
    "print(tup)\n",
    "\n",
    "# Using a string\n",
    "tup = ('Geeks', 'for')\n",
    "print(tup)\n",
    "\n",
    "# Using a list\n",
    "li = [1, 2, 3, 4, 5, 6]\n",
    "print(tuple(li))\n",
    "\n",
    "# Using a Built-in Function\n",
    "tup = tuple('Geeks')\n",
    "print(tup)"
   ]
  },
  {
   "cell_type": "markdown",
   "metadata": {},
   "source": [
    "**Creating a Tuple with mixed Datatypes**\n",
    "- Tuples can contain elements of various data types, including other tuples:\n",
    "    - Lists, dictionaries, and even functions\n"
   ]
  },
  {
   "cell_type": "code",
   "execution_count": 2,
   "metadata": {},
   "outputs": [
    {
     "name": "stdout",
     "output_type": "stream",
     "text": [
      "(5, 'Welcome', 7, 'Geeks')\n",
      "((0, 1, 2, 3), ('python', 'geek'))\n",
      "('Geeks', 'Geeks', 'Geeks')\n",
      "('Geeks',)\n",
      "(('Geeks',),)\n",
      "((('Geeks',),),)\n",
      "(((('Geeks',),),),)\n",
      "((((('Geeks',),),),),)\n"
     ]
    }
   ],
   "source": [
    "# Creating a Tuple with Mized Datatype\n",
    "tup = (5, 'Welcome', 7, 'Geeks')\n",
    "print(tup)\n",
    "\n",
    "# Creating a Tuple with nested tuples\n",
    "tup1 = (0, 1, 2, 3)\n",
    "tup2 = ('python', 'geek')\n",
    "tup3 = (tup1, tup2)\n",
    "print(tup3)\n",
    "\n",
    "# Creating a Tuple with repeition \n",
    "tup1 = ('Geeks',)*3\n",
    "print(tup1)\n",
    "\n",
    "# Creating a Tuple with the use of a loop \n",
    "tup = ('Geeks')\n",
    "n = 5\n",
    "for i in range(int(n)):\n",
    "    tup = (tup,)\n",
    "    print (tup)"
   ]
  },
  {
   "cell_type": "markdown",
   "metadata": {},
   "source": [
    "**Python Tuple Operations**\n",
    "- Below are Ptyhon tuple operations:\n",
    "    - Accessing of python Tuples\n",
    "    - Concatenation of Tuples\n",
    "    - Slicing of Tuple\n",
    "    - Deleting a Tuple"
   ]
  },
  {
   "cell_type": "markdown",
   "metadata": {},
   "source": [
    "**Accessing of Tuples**\n",
    "- We can acces by using indexing and slicing, similar to how we access element in a list.\n",
    "- Indexing starts at 0 for the first element and goes up to n-1, where n is the number of elements in the tuple. Negative indexing starts from -1 for the last element and goes backwards"
   ]
  },
  {
   "cell_type": "code",
   "execution_count": 4,
   "metadata": {},
   "outputs": [
    {
     "name": "stdout",
     "output_type": "stream",
     "text": [
      "G\n",
      "('e', 'e', 'k')\n",
      "('G', 'e', 'e')\n",
      "Geeks\n",
      "For\n",
      "Geeks\n"
     ]
    }
   ],
   "source": [
    "# Accessing Tuple with Indexing\n",
    "tup = tuple('Geeks')\n",
    "print(tup[0])\n",
    "\n",
    "# Accessing a range of elements using slcicing \n",
    "print(tup[1:4])\n",
    "print(tup[:3])\n",
    "\n",
    "# Tuple unpacking\n",
    "tup = ('Geeks', 'For', 'Geeks')\n",
    "\n",
    "# This line unpack values of Tuple1\n",
    "a, b, c = tup\n",
    "print(a)\n",
    "print(b)\n",
    "print(c)"
   ]
  },
  {
   "cell_type": "markdown",
   "metadata": {},
   "source": [
    "**Concatenation of Tuples**\n",
    "- Tuples can be concatenated using the + operator. this operation combines two or more tuples to create a new tuple.\n",
    "    - Only the sama datatypes can be combines with concatenation, and error arises if a list and tuple are combined"
   ]
  },
  {
   "cell_type": "code",
   "execution_count": 5,
   "metadata": {},
   "outputs": [
    {
     "name": "stdout",
     "output_type": "stream",
     "text": [
      "(0, 1, 2, 3, 'Geeks', 'For', 'Geeks')\n"
     ]
    }
   ],
   "source": [
    "tup1 = (0, 1, 2, 3)\n",
    "tup2 = ('Geeks', 'For', 'Geeks')\n",
    "\n",
    "tup3 = tup1 + tup2\n",
    "print(tup3)"
   ]
  },
  {
   "cell_type": "markdown",
   "metadata": {},
   "source": [
    "**Slicing of a Tuple**\n",
    "- Slicing a tuple means creating a new tuple from a subset of elements of the orginal tuple. The slcicing syntax is 'tuple[start:stop:step]\n",
    "    - Note: Negative increment values can also be used to reverse the sequence of Tuples"
   ]
  },
  {
   "cell_type": "code",
   "execution_count": 6,
   "metadata": {},
   "outputs": [
    {
     "name": "stdout",
     "output_type": "stream",
     "text": [
      "('E', 'E', 'K', 'S', 'F', 'O', 'R', 'G', 'E', 'E', 'K', 'S')\n",
      "('S', 'K', 'E', 'E', 'G', 'R', 'O', 'F', 'S', 'K', 'E', 'E', 'G')\n",
      "('S', 'F', 'O', 'R', 'G')\n"
     ]
    }
   ],
   "source": [
    "# Slicing of a tuple with numbers\n",
    "tup = tuple('GEEKSFORGEEKS')\n",
    "\n",
    "# Removing first element\n",
    "print(tup[1:])\n",
    "\n",
    "#Reversing the Tuple\n",
    "print(tup[::-1])\n",
    "\n",
    "# Printing elements of a range\n",
    "print(tup[4:9])"
   ]
  },
  {
   "cell_type": "markdown",
   "metadata": {},
   "source": [
    "**Deleting a Tuple**\n",
    "- we cannot delete individual elements of a tuple, however, we can delete an entire tuple using 'del' statement\n",
    "    - Note: printing of a Tuple afetr deletion results in an error"
   ]
  },
  {
   "cell_type": "code",
   "execution_count": null,
   "metadata": {},
   "outputs": [],
   "source": [
    "# Deleting a Tuple\n",
    "\n",
    "tup = (0, 1, 2, 3, 4)\n",
    "del tup\n",
    "print(tup)"
   ]
  },
  {
   "cell_type": "markdown",
   "metadata": {},
   "source": [
    "**Tuple Built-in Methods**\n",
    "- Tuples support only a few methods sue to their immuatble nature. The to most commonly used methods are 'count()' and 'index()'\n",
    "    - 'index()' Find in the tuple and returns the index of the given value when its available\n",
    "    - 'count()' returns the frequency of occurence of a specified value"
   ]
  },
  {
   "cell_type": "markdown",
   "metadata": {},
   "source": [
    "**Tuple Built-In Functions**\n",
    "- 'all()' returns true if all elements are true or if the tuple is empty\n",
    "- 'any()' returns true if any element of the tuple is true, if tuple is empty returns false\n",
    "- 'len()' Returns length of the tuple or size of the tuple\n",
    "- 'enumerate()' retruns enumerate objects of the tuple\n",
    "- 'max()' returns maximum of element of given tuple\n",
    "- 'min()' return minimum element of given tuple\n",
    "- 'sum()' Sums up the numbers in the tuple\n",
    "- 'sorted()' input element in the tuple and return a new sorted list\n",
    "- 'tuple()' convert an interable to a tuple\n"
   ]
  }
 ],
 "metadata": {
  "kernelspec": {
   "display_name": ".venv",
   "language": "python",
   "name": "python3"
  },
  "language_info": {
   "codemirror_mode": {
    "name": "ipython",
    "version": 3
   },
   "file_extension": ".py",
   "mimetype": "text/x-python",
   "name": "python",
   "nbconvert_exporter": "python",
   "pygments_lexer": "ipython3",
   "version": "3.13.2"
  }
 },
 "nbformat": 4,
 "nbformat_minor": 2
}
