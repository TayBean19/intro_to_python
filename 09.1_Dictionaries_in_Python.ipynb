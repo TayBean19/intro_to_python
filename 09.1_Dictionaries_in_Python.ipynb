{
 "cells": [
  {
   "cell_type": "markdown",
   "metadata": {},
   "source": [
    "**Dictionaries in Python**\n",
    "\n",
    "- A python dictionary is a data structure that stores the value in 'key: value' pairs. Values in a dictionary can be of any data type and can be duplicated, whereas keys can't be repeated and must be immutable. \n",
    "\n",
    "- EX: Here, the data is stored in 'key:value' pairs in dictionaries, which makes it easier to find values. "
   ]
  },
  {
   "cell_type": "code",
   "execution_count": 1,
   "metadata": {},
   "outputs": [
    {
     "name": "stdout",
     "output_type": "stream",
     "text": [
      "{1: 'Geeks', 2: 'For', 3: 'Geeks'}\n"
     ]
    }
   ],
   "source": [
    "#Example for above\n",
    "\n",
    "d = {1:'Geeks', 2:'For', 3:'Geeks'}\n",
    "print(d)"
   ]
  },
  {
   "cell_type": "markdown",
   "metadata": {},
   "source": [
    "**How to create a dictionary**\n",
    "\n",
    "- a dictionary can be created by placing a sequence of elements within curly {} braces, seperated by a comma. "
   ]
  },
  {
   "cell_type": "code",
   "execution_count": 2,
   "metadata": {},
   "outputs": [
    {
     "name": "stdout",
     "output_type": "stream",
     "text": [
      "{1: 'Geeks', 2: 'For', 3: 'Geeks'}\n",
      "{'a': 'Geeks', 'b': 'For', 'c': 'Geeks'}\n"
     ]
    }
   ],
   "source": [
    "# create dictionary using {}\n",
    "d1 = {1:'Geeks', 2:'For', 3:'Geeks'}\n",
    "print(d1)\n",
    "\n",
    "#create dictionary using dict() constructor\n",
    "d2 = dict(a = 'Geeks', b= 'For', c= 'Geeks')\n",
    "print(d2)"
   ]
  },
  {
   "cell_type": "markdown",
   "metadata": {},
   "source": [
    "**Accessing Dictionary Items**\n",
    "\n",
    "- We can access a value from a dictionary by using the 'key' within square brackets or get() method."
   ]
  },
  {
   "cell_type": "code",
   "execution_count": 3,
   "metadata": {},
   "outputs": [
    {
     "name": "stdout",
     "output_type": "stream",
     "text": [
      "Alice\n",
      "Alice\n"
     ]
    }
   ],
   "source": [
    "d = {\"name\":\"Alice\", 1: 'Python', (1,2): [1,2,4]}\n",
    "#Access using key\n",
    "print(d[\"name\"])\n",
    "\n",
    "#Access using get()\n",
    "print(d.get(\"name\"))"
   ]
  },
  {
   "cell_type": "markdown",
   "metadata": {},
   "source": [
    "**Adding and Updating Dictionary Items**\n",
    "\n",
    "- we can add new key-value pairs or uodate existing keys by using assignment. "
   ]
  },
  {
   "cell_type": "code",
   "execution_count": 4,
   "metadata": {},
   "outputs": [
    {
     "name": "stdout",
     "output_type": "stream",
     "text": [
      "{1: 'Python dict', 2: 'For', 3: 'Geeks', 'age': 22}\n"
     ]
    }
   ],
   "source": [
    "d= {1:'Geeks', 2:'For', 3:'Geeks'}\n",
    "# Adding a new key-value pair\n",
    "d[\"age\"]=22\n",
    "# Updating an existing value\n",
    "d[1] = \"Python dict\"\n",
    "\n",
    "print(d)"
   ]
  },
  {
   "cell_type": "markdown",
   "metadata": {},
   "source": [
    "**Removing Dictionary Items**\n",
    "- We can remove items from dictionary using the following methods:\n",
    "    - del: removes an item by key\n",
    "    - pop(): removed an items by key and returns its value\n",
    "    - clear(): empties the dictionary\n",
    "    - popitem(): Removed and returns the last key-value pair"
   ]
  },
  {
   "cell_type": "code",
   "execution_count": 5,
   "metadata": {},
   "outputs": [
    {
     "name": "stdout",
     "output_type": "stream",
     "text": [
      "{1: 'Geeks', 2: 'For', 3: 'Geeks'}\n",
      "Geeks\n",
      "Key: 3, Value: Geeks\n",
      "{}\n"
     ]
    }
   ],
   "source": [
    "d = {1:'Geeks', 2:'For', 3:'Geeks', 'age':22}\n",
    "\n",
    "#Using del to remove an item\n",
    "del d['age']\n",
    "print(d)\n",
    "\n",
    "#Using pop() to remove an item and return the value\n",
    "val = d.pop(1)\n",
    "print(val)\n",
    "\n",
    "#Using popitem to remove and returns the last key-value pair \n",
    "key, val = d.popitem()\n",
    "print(f\"Key: {key}, Value: {val}\")\n",
    "\n",
    "#Clear all items from the dictionary\n",
    "d.clear()\n",
    "print(d)"
   ]
  },
  {
   "cell_type": "markdown",
   "metadata": {},
   "source": [
    "**Iterating through a dictionry**\n",
    "\n",
    "- We can iterate over keys using keys()method, values using values()method, or both using item()method with a for loop. "
   ]
  },
  {
   "cell_type": "code",
   "execution_count": 6,
   "metadata": {},
   "outputs": [
    {
     "name": "stdout",
     "output_type": "stream",
     "text": [
      "1\n",
      "2\n",
      "3\n",
      "age\n",
      "Geeks\n",
      "For\n",
      "Geeks\n",
      "22\n",
      "1:Geeks\n",
      "2:For\n",
      "3:Geeks\n",
      "age:22\n"
     ]
    }
   ],
   "source": [
    "d = {1:'Geeks', 2:'For', 3:'Geeks', 'age':22}\n",
    "\n",
    "#Iterate over keys\n",
    "for key in d:\n",
    "    print(key)\n",
    "\n",
    "#Iterate over values\n",
    "for value in d.values():\n",
    "    print(value)\n",
    "\n",
    "#Iterate over key-value pairs\n",
    "for key, value in d.items():\n",
    "    print(f\"{key}:{value}\")"
   ]
  },
  {
   "cell_type": "markdown",
   "metadata": {},
   "source": [
    "**Nested Dictionaries**"
   ]
  },
  {
   "cell_type": "code",
   "execution_count": 7,
   "metadata": {},
   "outputs": [
    {
     "name": "stdout",
     "output_type": "stream",
     "text": [
      "{1: 'Geeks', 2: 'For', 3: {'A': 'Welcome', 'B': 'To', 'C': 'Geeks'}}\n"
     ]
    }
   ],
   "source": [
    "d = {1:'Geeks', 2:'For', \n",
    "        3:{'A': 'Welcome','B':'To','C':'Geeks'}}\n",
    "print(d)"
   ]
  }
 ],
 "metadata": {
  "kernelspec": {
   "display_name": ".venv",
   "language": "python",
   "name": "python3"
  },
  "language_info": {
   "codemirror_mode": {
    "name": "ipython",
    "version": 3
   },
   "file_extension": ".py",
   "mimetype": "text/x-python",
   "name": "python",
   "nbconvert_exporter": "python",
   "pygments_lexer": "ipython3",
   "version": "3.13.2"
  }
 },
 "nbformat": 4,
 "nbformat_minor": 2
}
