{
 "cells": [
  {
   "cell_type": "markdown",
   "metadata": {},
   "source": [
    "**DECISION STRUCTURES, AND BOOLEAN LOGIC**"
   ]
  },
  {
   "cell_type": "markdown",
   "metadata": {},
   "source": [
    "**The If Statement**"
   ]
  },
  {
   "cell_type": "code",
   "execution_count": null,
   "metadata": {},
   "outputs": [],
   "source": [
    "# This program gets three test scores and displays their average. \n",
    "# It congratulates the user if the average is a high score.\n",
    "high_score = 95\n",
    "\n",
    "# Get the three test scores\n",
    "test1 = int(input('Enter the score for test 1:'))\n",
    "test2 = int(input('Enter the score for test 2:'))\n",
    "test3 = int(input('Enter the score for test 3:'))\n",
    "\n",
    "# Calculate the average test score\n",
    "average = (test1 + test2 + test3)/3\n",
    "\n",
    "#print the avereage\n",
    "print('the average score is', average)\n",
    "\n",
    "#if the average is a high score congratulate user\n",
    "if average >= high_score:\n",
    "    print('Congrats')"
   ]
  },
  {
   "cell_type": "markdown",
   "metadata": {},
   "source": [
    "**Boolean Expressions and Relational Operators**\n",
    "- Boolean Expression: is an expression tested by the if statement to determine if it is true or false\n",
    "    - For example a > b returns true if a is greater than b; and false otherwise\n",
    "- Relational opertor: determines whether a specific relatioosnhip exists between two values "
   ]
  },
  {
   "cell_type": "markdown",
   "metadata": {},
   "source": [
    "**The If-Else Statement**\n",
    "\n",
    "-The if statement is a single alternative decision structure that provides one alternative path of execution. If the condition is not true, then exit the structure.\n",
    "- Whereas, the if-else statement is a dual alternative decison strucutre that provides two possible paths of execution. One is taken if the condition is true, and the other if the condition is false. \n"
   ]
  },
  {
   "cell_type": "code",
   "execution_count": null,
   "metadata": {},
   "outputs": [],
   "source": [
    "# Variables to represent the base hour and overtime multiplier\n",
    "base_hours = 40\n",
    "ot_multiplier = 1.5\n",
    "# Get the hours worked and the hourly rate\n",
    "hours = float(input('Enter the number of hours worked:'))\n",
    "pay_rate = float(input('Enter the hourly pay rate:'))\n",
    "\n",
    "if hours > base_hours:\n",
    "    #Calculate the gross pay with overtime\n",
    "    overtime_hours = hours - base_hours\n",
    "    overtime_pay = pay_rate * ot_multiplier\n",
    "    gross_pay = base_hours * pay_rate + overtime_pay\n",
    "else:\n",
    "    gross_pay = base_hours * pay_rate\n",
    "\n",
    "\n",
    "print('The gross pay is $,',format(gross_pay, '.2f'))\n"
   ]
  },
  {
   "cell_type": "markdown",
   "metadata": {},
   "source": [
    "**The nested decision strucute and the if-elif-else statement**\n",
    "\n",
    "- a special version of a deicison structure. It makes logic og nested decision structure simpler to write."
   ]
  },
  {
   "cell_type": "code",
   "execution_count": null,
   "metadata": {},
   "outputs": [],
   "source": [
    "#Variables to represent the grade thresholds\n",
    "A_score = 90\n",
    "B_score = 80\n",
    "C_score = 70\n",
    "D_score = 60\n",
    "\n",
    "# Get a test score from the user\n",
    "score = int(input('Enter your test score:'))\n",
    "\n",
    "# Determine the grade\n",
    "if score >= A_score:\n",
    "    print('Your grade is A.')\n",
    "else:\n",
    "    if score >= B_score:\n",
    "        print('Your grade is B.')\n",
    "    else:\n",
    "        if score >= C_score:\n",
    "            print ('Your grade is C')"
   ]
  },
  {
   "cell_type": "markdown",
   "metadata": {},
   "source": [
    "**Logical Operators**\n",
    "\n",
    "- the 'and' and 'or' operator are the binary operators, connecting two boolean expression into a compound boolean expression. \n",
    "    - the 'not' operator is an unary operator, reversing the truth of its Boolean operand. "
   ]
  },
  {
   "cell_type": "code",
   "execution_count": null,
   "metadata": {},
   "outputs": [],
   "source": [
    "# This program determines whether a bank customer qualifies for a loan\n",
    "min_salary = 30000.0\n",
    "min_years = 2\n",
    "\n",
    "# get the customers salary info\n",
    "salary = float(input('Enter your annual salary'))\n",
    "\n",
    "# Get the number of years on the job\n",
    "years_on_job = float(input('Enter the number of years employed:'))\n",
    "\n",
    "# Determine whehter the customer qualifies\n",
    "if salary >= min_salary:\n",
    "    if years_on_job >= min_years:\n",
    "        Print('You qualify for the loan')\n",
    "   "
   ]
  }
 ],
 "metadata": {
  "kernelspec": {
   "display_name": ".venv",
   "language": "python",
   "name": "python3"
  },
  "language_info": {
   "codemirror_mode": {
    "name": "ipython",
    "version": 3
   },
   "file_extension": ".py",
   "mimetype": "text/x-python",
   "name": "python",
   "nbconvert_exporter": "python",
   "pygments_lexer": "ipython3",
   "version": "3.13.2"
  }
 },
 "nbformat": 4,
 "nbformat_minor": 2
}
