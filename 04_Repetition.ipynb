{
 "cells": [
  {
   "cell_type": "markdown",
   "metadata": {},
   "source": [
    "**REPETITION**\n",
    "\n",
    "**Introduction to Repetitio Structure**\n",
    "\n",
    "- We often have to write code that performs the same task mulitple times. This duplicates code, makes programs large, and is also very time consuming. If needed, we might have to correct our code in many places. \n",
    "- Repetition structire: makes our computer repeats included code as necessary:\n",
    "    - includes: condition-controled loops & count-controlled loops\n",
    "\n",
    "\n",
    "**The While Loops**\n",
    "\n",
    "- The'while' loop is a condition-controlled loop. While the condition is true, the computer will keep doing something that it has been asked to do. \n",
    "\n"
   ]
  },
  {
   "cell_type": "code",
   "execution_count": null,
   "metadata": {},
   "outputs": [],
   "source": [
    "# This program calculates sales comssion\n",
    "\n",
    "# Create a variable to control the loop\n",
    "keep_going = 'y'\n",
    "\n",
    "# Calculaye a series of comissions\n",
    "while keep_going == 'y':\n",
    "    # Get a salesperson's sales and commision rate\n",
    "    sales = float(input('Enter the amount of sales:'))\n",
    "    comm_rate = float(input('Enter the commission rate:'))\n",
    "\n",
    "    # Calculate the commission\n",
    "    commission = sales * comm_rate\n",
    "\n",
    "    # Display the commission\n",
    "    print('The commission is $', format(commission, '.2f'))\n",
    "\n",
    "    # See of the user wants to do another one\n",
    "    keep_going = input(' Do you want to calculate another commission (y or n)')"
   ]
  },
  {
   "cell_type": "markdown",
   "metadata": {},
   "source": [
    "**Infinite Loops**\n",
    "\n",
    "- Loops must contain within themselves a way to terminate. Usually, something inside a while loop must eventually make the condition false.\n"
   ]
  },
  {
   "cell_type": "markdown",
   "metadata": {},
   "source": [
    "**For Loops**\n",
    "\n",
    "- The 'for' loops is a counted- controlled loop. It iterates a specific number of times.\n",
    "    - it is designed to work with sequence of data items, and iterates once for eah item in the sequence\n",
    "- for 'variable' in [val1, val2, etc]:\n",
    "        statements"
   ]
  },
  {
   "cell_type": "code",
   "execution_count": 71,
   "metadata": {},
   "outputs": [
    {
     "name": "stdout",
     "output_type": "stream",
     "text": [
      "I will display the numbers 1 through 5.\n",
      "1\n",
      "2\n",
      "3\n",
      "4\n",
      "5\n"
     ]
    }
   ],
   "source": [
    "#This program will demonstrate a simple for loop that uses a list of numbers\n",
    "\n",
    "print('I will display the numbers 1 through 5.')\n",
    "for num in [1, 2, 3, 4, 5]:\n",
    "    print(num)"
   ]
  },
  {
   "cell_type": "code",
   "execution_count": 72,
   "metadata": {},
   "outputs": [
    {
     "name": "stdout",
     "output_type": "stream",
     "text": [
      "Winken\n",
      "Blinken\n",
      "Nod\n"
     ]
    }
   ],
   "source": [
    "for name in ['Winken', 'Blinken', 'Nod']:\n",
    "    print(name)"
   ]
  },
  {
   "cell_type": "markdown",
   "metadata": {},
   "source": [
    "- Using the 'range' function simplifies the procces of writing a for loop. It returns an iterable object thatc ontains a sequence of values that can be iterated over\n",
    "    - Range functions characteristics: \n",
    "        - range(5) will return [1,2,3,4,5]\n",
    "        - range (0, 5) will return (0,1,2,3,4,5)\n",
    "        - range (0,5,2) will return (0,2,4)"
   ]
  },
  {
   "cell_type": "code",
   "execution_count": 73,
   "metadata": {},
   "outputs": [
    {
     "name": "stdout",
     "output_type": "stream",
     "text": [
      "Number\tSqare\n",
      "--------------\n",
      "1 \t 1\n",
      "2 \t 4\n",
      "3 \t 9\n",
      "4 \t 16\n",
      "5 \t 25\n",
      "6 \t 36\n",
      "7 \t 49\n",
      "8 \t 64\n",
      "9 \t 81\n",
      "10 \t 100\n"
     ]
    }
   ],
   "source": [
    "#This program uses a loop to display a table showing the numbers 1 through 10\n",
    "# and their squares\n",
    "\n",
    "#print the table headings\n",
    "print('Number\\tSqare')\n",
    "print('--------------')\n",
    "\n",
    "# print the numbers 1 through 10\n",
    "for number in range (1,11):\n",
    "    square = number**2\n",
    "    print(number,'\\t', square)"
   ]
  },
  {
   "cell_type": "code",
   "execution_count": 74,
   "metadata": {},
   "outputs": [
    {
     "name": "stdout",
     "output_type": "stream",
     "text": [
      "This program calculates the sum of\n",
      "5 numbers you will enter\n",
      "The total is 61.0\n"
     ]
    }
   ],
   "source": [
    "# This program calculates the sum of a series of numbers entered by a user\n",
    "\n",
    "max = 5 # the maximum number\n",
    "# initialize an acculator variable\n",
    "total = 0.0\n",
    "#Explain what we are doing\n",
    "print('This program calculates the sum of')\n",
    "print(max, 'numbers you will enter')\n",
    "# Get the numbers and accumulate them\n",
    "for counter in range(max):\n",
    "    number = int(input('Enter a number:'))\n",
    "    total = total + number\n",
    "print('The total is', total)"
   ]
  },
  {
   "cell_type": "markdown",
   "metadata": {},
   "source": [
    "**Sentinels**\n",
    "\n",
    "- sentinel is the special value that marks the end of a sequence of items:\n",
    "    - When the program reaches a sentinel, it knowns that the end of the sequence of items was reached, and the loop terminates\n",
    "    - The sentinel value must be distinctive enough so as not to be mistkane for a regular value in the sequence\n",
    "    - for examples:\n",
    "        - When reading an input file, empty line can be used as a sentinal\n",
    "        - when reading an input series of number -1 can be used as a sentinal "
   ]
  },
  {
   "cell_type": "code",
   "execution_count": null,
   "metadata": {},
   "outputs": [],
   "source": [
    "#This program displays property taxes\n",
    "TAX_FACTOR = 0.0065\n",
    "\n",
    "#Get the first lot number\n",
    "print('Enter the property lot number')\n",
    "print('or enter 0 to end')\n",
    "lot = int(input('Lot number:'))\n",
    "\n",
    "#Continue Processing as long as the user des not enter lot 0\n",
    "while lot != 0:\n",
    "    #Get the property value\n",
    "    value = float(input('Enter the property value:'))\n",
    "\n",
    "    #calculate the propety tax\n",
    "    tax = value * TAX_FACTOR\n",
    "    #Display the tax\n",
    "    print('Property tax: $', format(tax, '.2f'))\n",
    "    #Get the next lot number\n",
    "    print('Enter the next lot number or 0 to end')\n",
    "    lot = int(input('Lot number:'))\n"
   ]
  },
  {
   "cell_type": "markdown",
   "metadata": {},
   "source": [
    "**Nested Loops**\n",
    "\n",
    "- Nested Loop: is a loop contained inside another loop\n",
    "    - The nested loop has an inner loop and the outer loop\n",
    "    - for 'r' in range(5):\n",
    "        for 'c' in range(4):\n",
    "            print('*',end=')\n",
    "        print()"
   ]
  }
 ],
 "metadata": {
  "kernelspec": {
   "display_name": ".venv",
   "language": "python",
   "name": "python3"
  },
  "language_info": {
   "codemirror_mode": {
    "name": "ipython",
    "version": 3
   },
   "file_extension": ".py",
   "mimetype": "text/x-python",
   "name": "python",
   "nbconvert_exporter": "python",
   "pygments_lexer": "ipython3",
   "version": "3.13.2"
  }
 },
 "nbformat": 4,
 "nbformat_minor": 2
}
