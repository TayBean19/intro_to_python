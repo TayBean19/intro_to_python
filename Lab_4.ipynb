{
 "cells": [
  {
   "cell_type": "markdown",
   "metadata": {},
   "source": [
    "Total Sales\n",
    "\n",
    "Design a program that asks the user to enter a store’s sales for each day of the week. The amounts should be stored in a list. Use a loop to calculate the total sales for the week and display the result."
   ]
  },
  {
   "cell_type": "code",
   "execution_count": null,
   "metadata": {},
   "outputs": [],
   "source": [
    "#Calculate total sales for the week \n",
    "day_of_weeks = ['Monday', 'Tuesday', 'Wednesday', 'Thursday','Friday','Saturday','Sunday']\n",
    "sales = []\n",
    "\n",
    "#Get sales data from user\n",
    "for day in day_of_weeks:\n",
    "    while True:\n",
    "        try:\n",
    "            sale = float(input(f\"Enter sales for{day}:\"))\n",
    "            if sale < 0:\n",
    "                print('Sales cannot be negative')\n",
    "            else: \n",
    "                sales.append(sale)\n",
    "                break\n",
    "        except ValueError:\n",
    "            print('Invalid, please enter a numerical value.')\n",
    "# Calculate total sales\n",
    "total_sales = sum(sales)\n",
    "# Print the total for user\n",
    "print('\\nTotal sales for the week: $', total_sales)"
   ]
  },
  {
   "cell_type": "markdown",
   "metadata": {},
   "source": [
    "Date Printer\n",
    "\n",
    "Write a program that reads a string from the user containing a date in the form mm/dd/yyyy. It should print the date in the format March 12, 2018.\n",
    "\n"
   ]
  },
  {
   "cell_type": "code",
   "execution_count": null,
   "metadata": {},
   "outputs": [],
   "source": []
  }
 ],
 "metadata": {
  "kernelspec": {
   "display_name": ".venv",
   "language": "python",
   "name": "python3"
  },
  "language_info": {
   "codemirror_mode": {
    "name": "ipython",
    "version": 3
   },
   "file_extension": ".py",
   "mimetype": "text/x-python",
   "name": "python",
   "nbconvert_exporter": "python",
   "pygments_lexer": "ipython3",
   "version": "3.13.2"
  }
 },
 "nbformat": 4,
 "nbformat_minor": 2
}
