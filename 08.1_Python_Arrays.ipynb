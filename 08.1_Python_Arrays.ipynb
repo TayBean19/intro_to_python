{
 "cells": [
  {
   "cell_type": "markdown",
   "metadata": {},
   "source": [
    "**PYTHON ARRAYS**\n",
    "\n",
    "- Dynamic Typing: Python lists can hold elements of different types in the same list. We can have an integer, a string and even other lists all stored within a list. \n",
    "\n",
    "- Dynamic Resizing: Lists are dynamically resized, meaning you can add or remove elements without declaring the size of the lsit upfront. \n",
    "\n",
    "- Built-in methods: Python lists come with numerous bult-in methods that allow for easy maniputlation of the elements within them, including methods for appending, removing, sorting, and reversing elements. "
   ]
  },
  {
   "cell_type": "code",
   "execution_count": 1,
   "metadata": {},
   "outputs": [
    {
     "name": "stdout",
     "output_type": "stream",
     "text": [
      "[1, 'Hello', [3.14, 'world'], 2]\n"
     ]
    }
   ],
   "source": [
    "a = [1, \"Hello\", [3.14, \"world\"]]\n",
    "a.append(2) # Add an integer to the end\n",
    "print(a)"
   ]
  },
  {
   "cell_type": "markdown",
   "metadata": {},
   "source": [
    "**NumPy Arrays**\n",
    "\n",
    "- NumPy arrays are a part of the NumPy library, which is a powerful tool for numercial computing in python. These arrays are designed for high performance operations on large columes of data and support mulitdimensional arrays and matrices. This makes them ideal for complex mathmatical computations and large-scale data processing. \n",
    "    - Key Features: \n",
    "        - Multi-dimensional support: NumPy arrays can handle more than one dimension, making them suitable for matrix operations and more complex mathematical constructs. \n",
    "        - Broad broadcasting capabilities: They can perform operations between arrays of different sizes and shapes, a feature known as broadcasting. \n",
    "        - Efficient storage and proccesing: Numpy arrays are stores more efficienctly than Python lists and provide optimized performance for numerical operations. "
   ]
  },
  {
   "cell_type": "code",
   "execution_count": null,
   "metadata": {},
   "outputs": [],
   "source": [
    "import numpy as np\n",
    "\n",
    "# Creating a Numpy array\n",
    "arr = np.array([1, 2, 3, 4])\n",
    "# Elements-wise operations\n",
    "print(arr * 2)\n",
    "# Multi-dimensional array\n",
    "arr2d = np.array([1,2],{3,4})\n",
    "print(arr2d *2)"
   ]
  },
  {
   "cell_type": "markdown",
   "metadata": {},
   "source": [
    "**Python Arrays**\n",
    "\n",
    "- In python, array is a collection of items stores at contigous memory locations. The idea is to store mulitple items of the same type together. Unlike python lists (can store elements of mixed types), arrays must have all elements of same type. Having only homogeneous elements makes it memory- efficient. "
   ]
  },
  {
   "cell_type": "code",
   "execution_count": 3,
   "metadata": {},
   "outputs": [
    {
     "name": "stdout",
     "output_type": "stream",
     "text": [
      "1\n",
      "array('i', [1, 2, 3, 5])\n"
     ]
    }
   ],
   "source": [
    "import array as arr\n",
    "\n",
    "# creating array of integers\n",
    "a = arr.array('i', [1, 2, 3])\n",
    "\n",
    "# accessing First Array\n",
    "print(a[0])\n",
    "\n",
    "# Adding element to array\n",
    "a.append(5)\n",
    "print(a)"
   ]
  },
  {
   "cell_type": "markdown",
   "metadata": {},
   "source": [
    "**Create an array in python**\n",
    "\n",
    "- They can be created by importing an array module. 'array(data_type, value_list) is used to create an array in python with data type and value list specified in its arguments. "
   ]
  },
  {
   "cell_type": "code",
   "execution_count": 6,
   "metadata": {},
   "outputs": [
    {
     "name": "stdout",
     "output_type": "stream",
     "text": [
      "123"
     ]
    }
   ],
   "source": [
    "import array as arr\n",
    "\n",
    "# Creating array\n",
    "a = arr.array('i', [1, 2, 3])\n",
    "\n",
    "# iterating and printing each item\n",
    "for i in range (0, 3):\n",
    "    print(a[i],end=\"\" )\n"
   ]
  },
  {
   "cell_type": "markdown",
   "metadata": {},
   "source": [
    "**Adding Elements to an array**\n",
    "\n",
    "- Elements can be added to the python array by using bult-in 'insert()' function. \n",
    "    - Insert is used to insert one or more data elements into an array. Based on the requirement, a new element can be added at the beginning, end, or any given index of array. 'append()' is also used to add the value mentioned in its arguments at the end of the python array. "
   ]
  },
  {
   "cell_type": "code",
   "execution_count": 7,
   "metadata": {},
   "outputs": [
    {
     "name": "stdout",
     "output_type": "stream",
     "text": [
      "Integer Array before insertion: 1 2 3\n",
      "Integer Array after insertion: 1 4 2 3\n"
     ]
    }
   ],
   "source": [
    "import array as arr\n",
    "\n",
    "# Integer array example\n",
    "a = arr.array('i', [1, 2, 3])\n",
    "print (\"Integer Array before insertion:\", *a)\n",
    "\n",
    "a.insert(1,4) #insert 4 at index 1\n",
    "print('Integer Array after insertion:', *a)"
   ]
  },
  {
   "cell_type": "markdown",
   "metadata": {},
   "source": [
    "**Accessing Array Items**\n",
    "\n",
    "- In order to access the array items refer to the index number. Use the index operator [] to access an item in a array in Python. The index must be an integer. "
   ]
  },
  {
   "cell_type": "code",
   "execution_count": 8,
   "metadata": {},
   "outputs": [
    {
     "name": "stdout",
     "output_type": "stream",
     "text": [
      "1\n",
      "4\n",
      "3.2\n",
      "3.3\n"
     ]
    }
   ],
   "source": [
    "import array as arr\n",
    "a = arr.array('i', [1, 2, 3, 4, 5, 6])\n",
    "\n",
    "print(a[0])\n",
    "print(a[3])\n",
    "\n",
    "b = arr.array('d', [2.5, 3.2, 3.3])\n",
    "print(b[1])\n",
    "print(b[2])"
   ]
  },
  {
   "cell_type": "markdown",
   "metadata": {},
   "source": [
    "**Removing Elements from the Array**\n",
    "\n",
    "- Elements can be removed from the Python array by using built-in 'removal()' function. It will raise an error if the element doesn't exist. 'Remove()' method only removes the first occurance of the searched element. To remove range of elements, we can use iterator. \n",
    "    - 'pop()' function can also be used to remove and return an element from the array. By default it removes only the last element of the array. To remove an element from a specific position, index of that item is passed an an argumen to 'pop()' method. "
   ]
  },
  {
   "cell_type": "code",
   "execution_count": 9,
   "metadata": {},
   "outputs": [
    {
     "name": "stdout",
     "output_type": "stream",
     "text": [
      "array('i', [2, 3, 4, 5])\n",
      "array('i', [2, 3, 5])\n"
     ]
    }
   ],
   "source": [
    "import array\n",
    "arr = array.array('i', [1, 2, 3, 4, 5])\n",
    "\n",
    "# using remove() method to remove first occurance of 1\n",
    "arr.remove(1)\n",
    "print(arr)\n",
    "\n",
    "# pop() method - remove item at index 2\n",
    "arr.pop(2)\n",
    "print(arr)"
   ]
  }
 ],
 "metadata": {
  "kernelspec": {
   "display_name": ".venv",
   "language": "python",
   "name": "python3"
  },
  "language_info": {
   "codemirror_mode": {
    "name": "ipython",
    "version": 3
   },
   "file_extension": ".py",
   "mimetype": "text/x-python",
   "name": "python",
   "nbconvert_exporter": "python",
   "pygments_lexer": "ipython3",
   "version": "3.13.2"
  }
 },
 "nbformat": 4,
 "nbformat_minor": 2
}
