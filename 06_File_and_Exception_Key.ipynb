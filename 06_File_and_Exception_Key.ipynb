{
 "cells": [
  {
   "cell_type": "markdown",
   "metadata": {},
   "source": [
    "**06_FILE_AND_EXCEPTION.KEY**\n",
    "\n",
    "Input File: is a file that data is read from\n",
    "Reading data from: is to read date froma file\n",
    "Output file: is a file that data is written to \n",
    "Writing data to: is to save data on a file \n",
    "\n",
    "In general there are two types of files\n",
    "\n",
    "Text File: contains data that has been encoded in text\n",
    "Binary File: cotains data that has not been convereted to text\n",
    "\n",
    "There are two ways to access data stored in a file\n",
    "\n",
    "Sequential acess: reads sequentially from beginning to end, there is no skipping\n",
    "Direct Acess/ Random Access: can jump directy to any piece of data in the file\n"
   ]
  },
  {
   "cell_type": "markdown",
   "metadata": {},
   "source": [
    "1.) before reading or writing to a file is to 'open' a file\n",
    "\n",
    "2.) Python syntax: open(filename, mode)\n",
    "-  mode includes: 'r' for read only, 'w' for write, and 'a' for append\n",
    "\n",
    "**Read from a file**\n",
    "- the 'read' method reads an entire file contents into memory, returned as a string\n",
    "- the 'readline' method reads a line from the file, the read line returned as a string, including '\\n'"
   ]
  },
  {
   "cell_type": "code",
   "execution_count": 5,
   "metadata": {},
   "outputs": [
    {
     "name": "stdout",
     "output_type": "stream",
     "text": [
      "John Locke\n",
      "David Hume\n",
      "Edmund Burke\n",
      "\n"
     ]
    }
   ],
   "source": [
    "#This program reads and displays the contents of a file. \n",
    "def main ():\n",
    "    #open a file named philosphers.txt\n",
    "    infile = open('philosophers.txt', 'r')\n",
    "    #read the files contents.\n",
    "    file_contents = infile.read()\n",
    "    #close the file\n",
    "    infile.close()\n",
    "    # Print the data that was read\n",
    "    print(file_contents)\n",
    "\n",
    "# call the main function. \n",
    "main () \n",
    "    "
   ]
  },
  {
   "cell_type": "code",
   "execution_count": 8,
   "metadata": {},
   "outputs": [
    {
     "name": "stdout",
     "output_type": "stream",
     "text": [
      "John Locke\n",
      "\n",
      "David Hume\n",
      "\n",
      "Edmund Burke\n",
      "\n"
     ]
    }
   ],
   "source": [
    "# This program read the contents of the file one line at a time.\n",
    "def main():\n",
    "    #Open a file named philosphers.txt.\n",
    "    infile = open('philosophers.txt', 'r')\n",
    "    #read the lines from the text\n",
    "    line1 = infile.readline()\n",
    "    line2 = infile.readline()\n",
    "    line3 = infile.readline()\n",
    "    # Close the file\n",
    "    infile.close()\n",
    "\n",
    "    # Print the data the was read into\n",
    "    print(line1)\n",
    "    print(line2) \n",
    "    print(line3) \n",
    "\n",
    "# Call the main function \n",
    "main()"
   ]
  },
  {
   "cell_type": "markdown",
   "metadata": {},
   "source": [
    "**Write to a file**\n",
    "- The 'write' method is used to write data to the file\n",
    "- After writing, the file should closed using 'close' method"
   ]
  },
  {
   "cell_type": "code",
   "execution_count": null,
   "metadata": {},
   "outputs": [],
   "source": [
    "# This program writes three lines of data.\n",
    "# To a file. \n",
    "def main():\n",
    "    # Open a file named philosophers.txt.\n",
    "    outfile = open('philosophers.txt','w' )\n",
    "\n",
    "    # Write the names the three philosophers\n",
    "    # To the file\n",
    "    outfile.write('John Locke\\n')\n",
    "    outfile.write('David Hume\\n')\n",
    "    outfile.write('Edmund Burke\\n')\n",
    "    # Close the file.\n",
    "    outfile.close()\n",
    "\n",
    "# Call the Main function.\n",
    "main()"
   ]
  },
  {
   "cell_type": "markdown",
   "metadata": {},
   "source": [
    "**Write to a file - continued**\n",
    "- When open file with 'w' mode, if the file already exists it is overwritten\n",
    "    - to append data to a file use the 'a' mode\n",
    "    - If file exists, it is not erased, and if it does not exists it is created, in this mode data is written to a file at the end of the current contents \n",
    "\n"
   ]
  },
  {
   "cell_type": "markdown",
   "metadata": {},
   "source": [
    "**Exceptions**\n",
    "- Exception is an error that occurs while a program is running. It usually causes the program to abruptly halt\n",
    "- many exceptions can be prevent by careful coding:\n",
    "    - EX: input validation\n",
    "- However some exceptions cannot be avoided by careful coding\n",
    "    - Ex: trying to convert non-numeric string to an integer, or trying to open for reading a file that does not exist\n",
    "\n",
    "- Exception Handler: is a peice of code that responds when exceptions are raised and prevents the program from crashing\n",
    "    - In python, we can write the exception with the 'try/except' statement\n",
    "        - If satement in the 'try' suite raises an exception, handler immediatly follwoing 'except' clase executes, and the program continues after 'try/except' statement\n",
    "        - if there are no exception raised, the handler are skipped "
   ]
  },
  {
   "cell_type": "code",
   "execution_count": null,
   "metadata": {},
   "outputs": [],
   "source": [
    "# This program displays the total of the amounts in the sales_data.txt file\n",
    "def main():\n",
    "    # Initilize an accumulator\n",
    "    total = 0.0\n",
    "\n",
    "    try:\n",
    "        # Open the sales_data.txt file\n",
    "        infile = open('sales_data.xt','r')\n",
    "\n",
    "        # Read the values from the file and accumulate them\n",
    "        for line in infile:\n",
    "            amount = float(line)\n",
    "            total += amount\n",
    "        # Close the file\n",
    "        infile.close()\n",
    "\n",
    "        # Print the total\n",
    "        print(format(total, ',.2f'))\n",
    "    except IOError:\n",
    "        print('An error occured trying to reead the file')\n",
    "    except ValueError:\n",
    "        print('Non-numeric data found in the file')\n",
    "    except:\n",
    "        print('An error occured')\n",
    "# Call the main function\n",
    "main()\n"
   ]
  }
 ],
 "metadata": {
  "kernelspec": {
   "display_name": ".venv",
   "language": "python",
   "name": "python3"
  },
  "language_info": {
   "codemirror_mode": {
    "name": "ipython",
    "version": 3
   },
   "file_extension": ".py",
   "mimetype": "text/x-python",
   "name": "python",
   "nbconvert_exporter": "python",
   "pygments_lexer": "ipython3",
   "version": "3.13.2"
  }
 },
 "nbformat": 4,
 "nbformat_minor": 2
}
