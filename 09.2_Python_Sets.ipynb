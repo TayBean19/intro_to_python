{
 "cells": [
  {
   "cell_type": "markdown",
   "metadata": {},
   "source": [
    "**PYTHON SETS**\n",
    "\n",
    "- a python set is an unordered collection of multiple items having different dataypes. In python sets are mutable, unindexed, and do not contain duplicates. The order of elements in a set is not preserved and can change. "
   ]
  },
  {
   "cell_type": "markdown",
   "metadata": {},
   "source": [
    "**Creating a Set in Python**\n",
    "\n",
    "- In Python, the most basic and efficient method for creating a set is using curly braces. "
   ]
  },
  {
   "cell_type": "code",
   "execution_count": 1,
   "metadata": {},
   "outputs": [
    {
     "name": "stdout",
     "output_type": "stream",
     "text": [
      "{1, 2, 3, 4}\n"
     ]
    }
   ],
   "source": [
    "set1 = {1,2,3,4}\n",
    "print(set1)"
   ]
  },
  {
   "cell_type": "markdown",
   "metadata": {},
   "source": [
    "**Using the set() function**\n",
    "\n",
    "- Python sets can be created by using the built-in set() function with an iterable object or a sequence by placing the sequence inside curly braces, seperated by a comma. "
   ]
  },
  {
   "cell_type": "code",
   "execution_count": 2,
   "metadata": {},
   "outputs": [
    {
     "name": "stdout",
     "output_type": "stream",
     "text": [
      "set()\n",
      "{'s', 'k', 'F', 'r', 'e', 'o', 'G'}\n",
      "{'Geeks', 'For'}\n",
      "{'Geeks', 'For'}\n",
      "{'Geeks', 'for'}\n"
     ]
    }
   ],
   "source": [
    "# Creating a set\n",
    "set1 = set()\n",
    "print(set1)\n",
    "\n",
    "set1 = set(\"GeeksForGeeks\")\n",
    "print(set1)\n",
    "\n",
    "# Creating a set with the use of a list\n",
    "set1 = set(['Geeks', 'For', 'Geeks'])\n",
    "print(set1)\n",
    "\n",
    "# Creating a set with the use of a tuple\n",
    "tup = ('Geeks', 'For', 'Geeks')\n",
    "print(set(tup))\n",
    "\n",
    "# Creating a set with the use of a dictionary\n",
    "d = {'Geeks': 1, 'for': 2, 'Geeks': 3}\n",
    "print(set(d))"
   ]
  },
  {
   "cell_type": "markdown",
   "metadata": {},
   "source": [
    "**Unorderd, Unindexewd, and Mutability**\n",
    "\n",
    "- In set, the order of elements is not guarenteed to be the same as the order in which they were added. The output could vary each time we run the program. Also the duplicate items are removed by iteself.\n",
    "- Dets do not support indexing. Trying to access an element by index (set[0]) raises a TypeError.\n",
    "- We can add elements to the set using add(). We can remove elements from the set using remove(). The set changes after these operations, demonstrating its mutability. However, we cannot changes its items directly. "
   ]
  },
  {
   "cell_type": "code",
   "execution_count": 4,
   "metadata": {},
   "outputs": [
    {
     "name": "stdout",
     "output_type": "stream",
     "text": [
      "{1, 2, 3, 4, 5, 9}\n",
      "'set' object is not subscriptable\n"
     ]
    }
   ],
   "source": [
    "# Creating a set\n",
    "set1 = {3,1,4,1,5,9,2}\n",
    "\n",
    "#Unordered: The order of elements is not preserved \n",
    "print(set1) #output may vary: {1,2,3,4,5,,9}\n",
    "\n",
    "#Unindexed: Accessing elements by index is not possible, \n",
    "# this will raise a TypeError\n",
    "try:\n",
    "    print(set1[0])\n",
    "except TypeError as e:\n",
    "    print(e)"
   ]
  },
  {
   "cell_type": "markdown",
   "metadata": {},
   "source": [
    "**Adding Elements to a set in Python**\n",
    "\n",
    "- We can add items to a set using 'add()' method and 'update()' method. "
   ]
  },
  {
   "cell_type": "code",
   "execution_count": 5,
   "metadata": {},
   "outputs": [
    {
     "name": "stdout",
     "output_type": "stream",
     "text": [
      "{1, 2, 3, 4}\n",
      "{1, 2, 3, 4, 5, 6}\n"
     ]
    }
   ],
   "source": [
    "# Creating a set\n",
    "set1 = {1,2,3}\n",
    "\n",
    "# Add one item\n",
    "set1.add(4)\n",
    "print(set1)\n",
    "\n",
    "#add multiple items\n",
    "set1.update([5,6])\n",
    "print(set1)"
   ]
  },
  {
   "cell_type": "markdown",
   "metadata": {},
   "source": [
    "**Accessing a Set in Python**\n",
    "\n",
    "- We can loop through a set to access set items as a set is unindexed and do not support accessing elements by indexing. Also, we can use in keyword which is membership operator to check if an item exists in a set. "
   ]
  },
  {
   "cell_type": "code",
   "execution_count": 6,
   "metadata": {},
   "outputs": [
    {
     "name": "stdout",
     "output_type": "stream",
     "text": [
      "GeeksGeeks.ForTrue\n"
     ]
    }
   ],
   "source": [
    "set1 = set(['Geeks','For', 'Geeks.' ])\n",
    "\n",
    "# Accessing element using for loop\n",
    "for i in set1:\n",
    "    print(i, end= \"\")\n",
    "\n",
    "# Checking the element using in keyword\n",
    "print('Geeks' in set1)"
   ]
  },
  {
   "cell_type": "markdown",
   "metadata": {},
   "source": [
    "**Frozen Sets in Python**\n",
    "\n",
    "- A frozenset in python is a built-in data type that is similar to a set but with one key difference that is immutability. This means that once a frozenset is created, we cannot modify its ekements that is we cannot add, remove, or change any items in it. Like regular sets, a frozenset cannot contain duplicate elements. If no paramenters are passed, it returns an empty frozenset. "
   ]
  },
  {
   "cell_type": "code",
   "execution_count": 7,
   "metadata": {},
   "outputs": [
    {
     "name": "stdout",
     "output_type": "stream",
     "text": [
      "frozenset({1, 2, 3, 4, 5})\n",
      "frozenset({1, 3, 4, 5})\n"
     ]
    }
   ],
   "source": [
    "# Creating a frozenset from a list\n",
    "fset = frozenset([1,2,3,4,5])\n",
    "print(fset)\n",
    "\n",
    "# Creating a frozenset from a set\n",
    "set1 = {3,1,4,1,5}\n",
    "fset = frozenset(set1)\n",
    "print(fset)"
   ]
  },
  {
   "cell_type": "markdown",
   "metadata": {},
   "source": [
    "**Type Casting Objects into Sets**\n",
    "\n",
    "- refers to converting the various data types into a set. Python provides the set() constrctor to perform this typecasting. Allowing us to convert lists, tuples, and strings into sets. "
   ]
  },
  {
   "cell_type": "code",
   "execution_count": 9,
   "metadata": {},
   "outputs": [
    {
     "name": "stdout",
     "output_type": "stream",
     "text": [
      "{1, 2, 3, 4, 5, 6}\n",
      "{'s', 'k', 'r', 'e', 'o', 'G', 'f'}\n",
      "{1, 2, 3}\n"
     ]
    }
   ],
   "source": [
    "# Typecasting list into set\n",
    "li = [1,2,3,3,4,5,5,6,2]\n",
    "set1 = set(li)\n",
    "print(set1)\n",
    "\n",
    "#Typecasting string into set\n",
    "s = \"GeeksforGeeks\"\n",
    "set1 = set(s)\n",
    "print(set1)\n",
    "\n",
    "# Typecasting dictionary into set\n",
    "d = {1:'One', 2:'Two',3:'Three'}\n",
    "set1 = set(d)\n",
    "print(set1)\n"
   ]
  }
 ],
 "metadata": {
  "kernelspec": {
   "display_name": ".venv",
   "language": "python",
   "name": "python3"
  },
  "language_info": {
   "codemirror_mode": {
    "name": "ipython",
    "version": 3
   },
   "file_extension": ".py",
   "mimetype": "text/x-python",
   "name": "python",
   "nbconvert_exporter": "python",
   "pygments_lexer": "ipython3",
   "version": "3.13.2"
  }
 },
 "nbformat": 4,
 "nbformat_minor": 2
}
